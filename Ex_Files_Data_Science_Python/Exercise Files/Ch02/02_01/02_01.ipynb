{
 "cells": [
  {
   "cell_type": "code",
   "execution_count": 4,
   "metadata": {},
   "outputs": [],
   "source": [
    "import numpy as np"
   ]
  },
  {
   "cell_type": "code",
   "execution_count": 5,
   "metadata": {},
   "outputs": [],
   "source": [
    "np.any??"
   ]
  },
  {
   "cell_type": "code",
   "execution_count": 6,
   "metadata": {},
   "outputs": [],
   "source": [
    "%magic"
   ]
  },
  {
   "cell_type": "code",
   "execution_count": 8,
   "metadata": {},
   "outputs": [
    {
     "name": "stdout",
     "output_type": "stream",
     "text": [
      "-0.9589242746631385\n",
      "-0.9589242746631385\n",
      "-0.9589242746631385\n",
      "-0.9589242746631385\n",
      "-0.9589242746631385\n",
      "CPU times: user 255 µs, sys: 96 µs, total: 351 µs\n",
      "Wall time: 276 µs\n"
     ]
    }
   ],
   "source": [
    "%%time\n",
    "for i in range(5):\n",
    "    print(np.sin(5))"
   ]
  },
  {
   "cell_type": "code",
   "execution_count": 21,
   "metadata": {},
   "outputs": [],
   "source": [
    "dir_name = !ls /var/log"
   ]
  },
  {
   "cell_type": "code",
   "execution_count": null,
   "metadata": {},
   "outputs": [],
   "source": []
  },
  {
   "cell_type": "code",
   "execution_count": 24,
   "metadata": {},
   "outputs": [
    {
     "name": "stdout",
     "output_type": "stream",
     "text": [
      "We have 41 files at ['Bluetooth', 'CoreDuet', 'DiagnosticMessages', 'alf.log', 'apache2', 'appfirewall.log', 'asl', 'com.apple.wifivelocity', 'com.apple.xpc.launchd', 'cups', 'daily.out', 'displaypolicy', 'displaypolicyd.stdout.log', 'dm', 'emond', 'fsck_apfs.log', 'fsck_apfs_error.log', 'fsck_hfs.log', 'install.log', 'mDNSResponder', 'monthly.out', 'powermanagement', 'ppp', 'shutdown_monitor.log', 'system.log', 'system.log.0.gz', 'system.log.1.gz', 'uucp', 'weekly.out', 'wifi-05-31-2020__08:40:57.963.log', 'wifi.log', 'wifi.log.0.bz2', 'wifi.log.1.bz2', 'wifi.log.2.bz2', 'wifi.log.3.bz2', 'wifi.log.4.bz2', 'wifi.log.5.bz2', 'wifi.log.6.bz2', 'wifi.log.7.bz2', 'wifi.log.8.bz2', 'wifi.log.9.bz2']\n"
     ]
    }
   ],
   "source": [
    "files = !ls /var/log\n",
    "print(f'We have {len(files)} files at {dir_name}')"
   ]
  },
  {
   "cell_type": "code",
   "execution_count": null,
   "metadata": {},
   "outputs": [],
   "source": []
  }
 ],
 "metadata": {
  "kernelspec": {
   "display_name": "Python 3",
   "language": "python",
   "name": "python3"
  },
  "language_info": {
   "codemirror_mode": {
    "name": "ipython",
    "version": 3
   },
   "file_extension": ".py",
   "mimetype": "text/x-python",
   "name": "python",
   "nbconvert_exporter": "python",
   "pygments_lexer": "ipython3",
   "version": "3.7.0"
  }
 },
 "nbformat": 4,
 "nbformat_minor": 2
}
